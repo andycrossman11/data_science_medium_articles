{
 "cells": [
  {
   "cell_type": "markdown",
   "metadata": {},
   "source": [
    "## Repitition Allowed, Order Doesn't matter"
   ]
  },
  {
   "cell_type": "markdown",
   "metadata": {},
   "source": [
    "\n",
    "formula: $n^r$\n",
    "\n",
    "where: <br>\n",
    "- $n$ is the number of ice cream flavors\n",
    "- $r$ is the number of scoops"
   ]
  },
  {
   "cell_type": "markdown",
   "metadata": {},
   "source": [
    "## Repetition Allowed, Order Doesn't Matter"
   ]
  },
  {
   "cell_type": "markdown",
   "metadata": {},
   "source": [
    "formula: $C_wR(n, r) = \\frac{(n + r - 1)!}{r! \\cdot (n - 1)!}$\n",
    "\n",
    "where: <br>\n",
    "- $n$ is the number of ice cream flavors\n",
    "- $r$ is the number of scoops"
   ]
  },
  {
   "cell_type": "markdown",
   "metadata": {},
   "source": [
    "$C(5, 3) = \\binom{5 + 3 - 1}{3} = \\binom{7}{3} = \\frac{7!}{3! \\cdot (5-3)!} = \\frac{7 * 6 * 5 * 4 * 3 * 2}{}$"
   ]
  },
  {
   "cell_type": "markdown",
   "metadata": {},
   "source": [
    "## Repetition NOT Allowed, Order Does Matter"
   ]
  },
  {
   "cell_type": "markdown",
   "metadata": {},
   "source": [
    "formula: $P(n, r) = \\frac{n!}{(n-r)!}$\n",
    "\n",
    "where: <br>\n",
    "- $n$ is the number of ice cream flavors\n",
    "- $r$ is the number of scoops"
   ]
  },
  {
   "cell_type": "markdown",
   "metadata": {},
   "source": [
    "P(n,r)"
   ]
  },
  {
   "cell_type": "markdown",
   "metadata": {},
   "source": [
    "## Repetition NOT Allowed, Order Doesn't Matter"
   ]
  },
  {
   "cell_type": "markdown",
   "metadata": {},
   "source": [
    "formula: $C(n, r) = \\frac{n!}{r!(n-r)!}$\n",
    "\n",
    "where: <br>\n",
    "- $n$ is the number of ice cream flavors\n",
    "- $r$ is the number of scoops"
   ]
  },
  {
   "cell_type": "markdown",
   "metadata": {},
   "source": [
    "$\\binom{5}{3} = \\frac{5!}{3! \\cdot (5-3)!} = \\frac{5 * 4 * 3 * 2}{3 * 2 * 2} = 10$"
   ]
  },
  {
   "cell_type": "markdown",
   "metadata": {},
   "source": []
  }
 ],
 "metadata": {
  "language_info": {
   "name": "python"
  }
 },
 "nbformat": 4,
 "nbformat_minor": 2
}
