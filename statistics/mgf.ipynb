{
 "cells": [
  {
   "cell_type": "markdown",
   "id": "c493bead",
   "metadata": {},
   "source": [
    "### Definition of MGF"
   ]
  },
  {
   "cell_type": "markdown",
   "id": "55c931a5",
   "metadata": {},
   "source": [
    "$$\n",
    "M_X(t) = \\mathbb{E}\\bigl[e^{tX}\\bigr]\n",
    "$$"
   ]
  },
  {
   "cell_type": "markdown",
   "id": "3d347e2c",
   "metadata": {},
   "source": [
    "### Taylor Series Expansion of MGF"
   ]
  },
  {
   "cell_type": "markdown",
   "id": "d8709f21",
   "metadata": {},
   "source": [
    "$e^{tX} = 1 + tX + \\frac{t^2 X^2}{2!} + \\frac{t^3 X^3}{3!} + \\cdots + \\frac{t^n X^n}{n!}$<br>\n",
    "\n",
    "So, $\\mathbb{E}\\bigl[e^{tX}\\bigr] = \\mathbb{E}\\bigl[1\\bigr] + t\\mathbb{E}\\bigl[X\\bigr] + \\frac{t^2 \\mathbb{E}\\bigl[X^2\\bigr]}{2!} + \\frac{t^3\\mathbb{E}\\bigl[X^3\\bigr]}{3!} + \\cdots + \\frac{t^n \\mathbb{E}\\bigl[X^n\\bigr]}{n!}$"
   ]
  },
  {
   "cell_type": "markdown",
   "id": "c03f63a6",
   "metadata": {},
   "source": [
    "### Extracting Moments via Derivatives\n"
   ]
  },
  {
   "cell_type": "markdown",
   "id": "1a27c851",
   "metadata": {},
   "source": [
    "$$\n",
    "M_X^{(n)}(0) \\;=\\; \\frac{d^n}{dt^n}\\,M_X(t)\\Big|_{t=0}\n",
    "\\;=\\; \\mathbb{E}\\bigl[X^n\\bigr]\n",
    "$$"
   ]
  },
  {
   "cell_type": "markdown",
   "id": "624a2e92",
   "metadata": {},
   "source": [
    "Let's solve for the mean, $\\mathbb{E}\\bigl[X\\bigr]$:\n",
    "\n",
    "$$\n",
    "M_X'(t) \\;=\\; \\frac{d}{dt}\\,M_X(t)\n",
    "\\;=\\; \\frac{d}{dt}\\,1 + \\frac{d}{dt}\\,t\\mathbb{E}\\bigl[X\\bigr] + \\frac{d}{dt}\\,\\frac{t^2 \\mathbb{E}\\bigl[X^2\\bigr]}{2!} + \\frac{d}{dt}\\,\\frac{t^3 \\mathbb{E}\\bigl[X^3\\bigr]}{3!} + \\cdots + \\frac{d}{dt}\\,\\frac{t^n \\mathbb{E}\\bigl[X^n\\bigr]}{n!}\n",
    "$$\n"
   ]
  },
  {
   "cell_type": "markdown",
   "id": "66307b0c",
   "metadata": {},
   "source": [
    "So,\n",
    "\n",
    "$\n",
    "M_X'(t) \\;=\\; 0 + \\mathbb{E}\\bigl[X\\bigr] + \\frac{2\\mathbb{E}\\bigl[X^2\\bigr]}{2!}t + \\frac{3\\mathbb{E}\\bigl[X^3\\bigr]}{3!}t^2 \\cdots + \\frac{n\\mathbb{E}\\bigl[X^n\\bigr]}{n!}t^{n-1}\n",
    "$<br>\n",
    "\n",
    "Then evaluate at t=0 to extract moments:\n",
    "\n",
    "$\n",
    "M_X'(t) \\;=\\; 0 + \\mathbb{E}\\bigl[X\\bigr] + 0 + 0 \\cdots + 0 = \\mathbb{E}\\bigl[X\\bigr]\n",
    "$"
   ]
  },
  {
   "cell_type": "markdown",
   "id": "153e3ed4",
   "metadata": {},
   "source": [
    "Get the Second Derivative of MGF and evaluate at t=0 for second moment:\n",
    "\n",
    "$\n",
    "M_X''(t) \\;=\\; 0 + 0 + \\frac{2\\mathbb{E}\\bigl[X^2\\bigr]}{2!} + \\frac{3 * 2\\mathbb{E}\\bigl[X^3\\bigr]}{3!}t \\cdots + \\frac{n * (n - 1)\\mathbb{E}\\bigl[X^n\\bigr]}{n!}t^{n-2}\n",
    "$<br>\n",
    "\n",
    "$\n",
    "M_X''(0) \\;=\\; 0 + 0 + \\mathbb{E}\\bigl[X^2\\bigr] + 0 \\cdots + 0 = \\mathbb{E}\\bigl[X^2\\bigr]\n",
    "$"
   ]
  },
  {
   "cell_type": "markdown",
   "id": "a97ee887",
   "metadata": {},
   "source": [
    "### Exponential Distribution"
   ]
  },
  {
   "cell_type": "markdown",
   "id": "f3be79ed",
   "metadata": {},
   "source": [
    "PDF of $X \\sim Exp(\\lambda)$:\n",
    "$$\n",
    "f_X(x) = \n",
    "\\begin{cases}\n",
    "\\lambda e^{-\\lambda x}, & x \\ge 0,\\\\\n",
    "0, & x < 0.\n",
    "\\end{cases}\n",
    "$$\n"
   ]
  },
  {
   "cell_type": "markdown",
   "id": "aabf7622",
   "metadata": {},
   "source": [
    "### Deriving Exponential MGF"
   ]
  },
  {
   "cell_type": "markdown",
   "id": "6e88bcd5",
   "metadata": {},
   "source": [
    "For \\(t < $\\lambda$\\):\n",
    "$$\n",
    "M_X(t)\n",
    "= \\int_{0}^{\\infty} e^{t x}\\,\\lambda e^{-\\lambda x}\\,dx\n",
    "= \\frac{\\lambda}{\\lambda - t}.\n",
    "$$"
   ]
  },
  {
   "cell_type": "markdown",
   "id": "d782581b",
   "metadata": {},
   "source": [
    "Derivatives of Exponential MGF:\n",
    "- First derivative:\n",
    "  $$\n",
    "  M_X'(t) = \\frac{\\lambda}{(\\lambda - t)^2}\n",
    "  \\quad\\Longrightarrow\\quad\n",
    "  M_X'(0) = \\frac{1}{\\lambda} = \\mathbb{E}[X]\n",
    "  $$\n",
    "- Second derivative:\n",
    "  $$\n",
    "  M_X''(t) = \\frac{2\\lambda}{(\\lambda - t)^3}\n",
    "  \\quad\\Longrightarrow\\quad\n",
    "  M_X''(0) = \\frac{2}{\\lambda^2}\n",
    "  $$\n",
    "- Hence\n",
    "  $$\n",
    "  \\mathrm{Var}(X) \n",
    "  = M_X''(0) - \\bigl(M_X'(0)\\bigr)^2\n",
    "  = \\frac{2}{\\lambda^2} - \\frac{1}{\\lambda^2}\n",
    "  = \\frac{1}{\\lambda^2}.\n",
    "  $$"
   ]
  },
  {
   "cell_type": "markdown",
   "id": "abae0726",
   "metadata": {},
   "source": [
    "### Moments of Sums of independent variables is Product of their MGFs"
   ]
  },
  {
   "cell_type": "markdown",
   "id": "6922634e",
   "metadata": {},
   "source": [
    "If \\($X_1,\\dots,X_n$\\) are independent with MGF \\($M_X(t)$\\), then\n",
    "$$\n",
    "S_n = \\sum_{i=1}^n X_i\n",
    "\\quad\\Longrightarrow\\quad\n",
    "M_{S_n}(t) = \\prod_{i=1}^n M_{X_i}(t)\n",
    "$$"
   ]
  },
  {
   "cell_type": "markdown",
   "id": "6313342f",
   "metadata": {},
   "source": [
    "### Sum of Exponentials ~ Gamma"
   ]
  },
  {
   "cell_type": "markdown",
   "id": "0ceee9f3",
   "metadata": {},
   "source": [
    "When each \\($X_i\\sim\\mathrm{Exp}(\\lambda)$\\), the sum \\($S_n$\\) has\n",
    "PDF\n",
    "$$\n",
    "f_{S_n}(x)\n",
    "= \\frac{\\lambda^n\\,x^{n-1}\\,e^{-\\lambda x}}{(n-1)!},\n",
    "\\quad x>0,\n",
    "$$\n",
    "and MGF\n",
    "$$\n",
    "M_{S_n}(t) \n",
    "= \\Bigl(\\tfrac{\\lambda}{\\lambda - t}\\Bigr)^n.\n",
    "$$"
   ]
  },
  {
   "cell_type": "markdown",
   "id": "032e53d5",
   "metadata": {},
   "source": []
  }
 ],
 "metadata": {
  "language_info": {
   "name": "python"
  }
 },
 "nbformat": 4,
 "nbformat_minor": 5
}
