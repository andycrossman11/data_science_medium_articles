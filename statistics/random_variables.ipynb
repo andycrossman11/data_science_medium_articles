{
 "cells": [
  {
   "cell_type": "markdown",
   "id": "a32428bf",
   "metadata": {},
   "source": [
    "$2^{100} =$ really big number"
   ]
  },
  {
   "cell_type": "markdown",
   "id": "a27f6f9f",
   "metadata": {},
   "source": [
    "$R(x)$ = # times you win an iPod <br>\n",
    "\n",
    "where x is the outcomes of 100 claw games\n",
    "\n",
    "and $R(x) \\in [0, 100]$"
   ]
  },
  {
   "cell_type": "markdown",
   "id": "df99be32",
   "metadata": {},
   "source": [
    "$P(X = k) = \\binom{n}{k} p^{k}(1 - p)^{n-k}$"
   ]
  },
  {
   "cell_type": "markdown",
   "id": "60ea09f8",
   "metadata": {},
   "source": [
    "$P(X = 1) = \\binom{100}{1}.0001^{1}(1-.0001)^{99}$\n",
    "\n",
    "$P(X = 1) = (100)(.0001)(.9999^{99})$\n",
    "\n",
    "$P(X = 1) = .0099$\n",
    "\n",
    "$P(X = 1) \\approx 1\\%$"
   ]
  },
  {
   "cell_type": "markdown",
   "id": "6db389da",
   "metadata": {},
   "source": [
    "$P(X \\geq 1) = P(X = 1) + P(X = 2) + ... + P(X = 100)$"
   ]
  },
  {
   "cell_type": "markdown",
   "id": "17888b0d",
   "metadata": {},
   "source": [
    "$P(X \\geq 1) = 1 - P(X < 1) = 1 - P(X \\le 0)$"
   ]
  },
  {
   "cell_type": "markdown",
   "id": "9d507350",
   "metadata": {},
   "source": [
    "$F(k) = P(X \\le k) = \\sum_{i=0}^{k}P(X = i)$"
   ]
  },
  {
   "cell_type": "markdown",
   "id": "c4fe54da",
   "metadata": {},
   "source": [
    "$F(x) = \\int_{-\\infty}^{x}f(t)\\,dt$\n",
    "\n",
    "where:\n",
    "- $f(t)$ is the pdf of x\n",
    "- $t$ is a placeholder for the random variable $X$ that will be integrated over"
   ]
  },
  {
   "cell_type": "markdown",
   "id": "6fdec6e8",
   "metadata": {},
   "source": [
    "$F(x) = \\int_{-\\infty}^{x}f(t)\\,dt$<br>\n",
    "$f(x) = \\frac{d}{dx}F(x)$\n",
    "\n",
    "where:\n",
    "- F(x) is the CDF of X\n",
    "- f(x) is the PDF of X"
   ]
  },
  {
   "cell_type": "markdown",
   "id": "055fbadd",
   "metadata": {},
   "source": [
    "$P(X \\ge 1) = 1 - P(X \\le 0) = 1 - F(X=0) = 1 - .99 = .01$\n",
    "\n",
    "$P(X \\ge 1) = 1\\%$"
   ]
  },
  {
   "cell_type": "markdown",
   "id": "1064a362",
   "metadata": {},
   "source": [
    "Expectation for Discrete Random Variable:<br>\n",
    "$E[X] = \\sum_{k=0}^{n}k * P(X = k)$\n",
    "\n",
    "Expectation for Continuous Random Variable:<br>\n",
    "$E[X] = \\int_{-\\infty}^{\\infty}x * f(x) \\, dx$"
   ]
  },
  {
   "cell_type": "markdown",
   "id": "b0d07567",
   "metadata": {},
   "source": [
    "$E[X] = n * p = 100 * .0001 = .01$"
   ]
  },
  {
   "cell_type": "markdown",
   "id": "eb1be36f",
   "metadata": {},
   "source": [
    "$Var(X) = E[X^2] - E[X]^2$"
   ]
  },
  {
   "cell_type": "markdown",
   "id": "c1edd342",
   "metadata": {},
   "source": [
    "$Var(X) = n * p * (1 - p) = 100 * .0001 * (.9999) \\approx .01$"
   ]
  },
  {
   "cell_type": "markdown",
   "id": "2a65a269",
   "metadata": {},
   "source": [
    "Very, very confident interval for # of ipods won = $.01 \\pm .01 = [0, .02]$"
   ]
  },
  {
   "cell_type": "markdown",
   "id": "3065d8a4",
   "metadata": {},
   "source": []
  }
 ],
 "metadata": {
  "language_info": {
   "name": "python"
  }
 },
 "nbformat": 4,
 "nbformat_minor": 5
}
