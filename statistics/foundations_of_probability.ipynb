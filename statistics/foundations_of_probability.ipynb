{
 "cells": [
  {
   "cell_type": "markdown",
   "id": "d22287d3",
   "metadata": {},
   "source": [
    "1. **Non-Negativity**  \n",
    "    - For all events $A$ in $S$, <br>\n",
    "    $P(A) >= 0$\n",
    "\n",
    "2. **Normalization**  \n",
    "    - The probability of the entire sample space $S$ is:<br>\n",
    "    $P(S) = 1$\n",
    "    - So the odds that some event in $S$ occurs is 1.\n",
    "    - This is because $S$ contains the set of all possible outcomes - **At least 1 of them has to occur.**\n",
    "\n",
    "3. **Additivity**  \n",
    "    - For mutually exclusive events, $A$ and $B$ apart of $S$, the probability of $A$ or $B$ occuring is the sum of $P(A)$ and $P(B)$.\n",
    "    - To be technical, <br>\n",
    "    If $A \\cap B = \\emptyset$, then $P(A \\cup B) = P(A) + P(B)$"
   ]
  },
  {
   "cell_type": "markdown",
   "id": "dd7f0f71",
   "metadata": {},
   "source": [
    "**Probability of event X occurring is:**<br>\n",
    "\n",
    "$P(X) = \\frac{\\text{\\# of ways that X can occur}}{\\text{\\# of total events in the Sample Space}}$\n",
    "\n",
    "**So, for a new die roll where X denotes the number from the roll,**<br>\n",
    "\n",
    "$P(X = \\omega) = \\frac{1}{6} = .167$\n",
    "\n",
    "$\\omega$ is any number in $S$, where $S$ = $\\{1, 2, 3, 4, 5, 6\\}$"
   ]
  },
  {
   "cell_type": "markdown",
   "id": "bbbf6fb3",
   "metadata": {},
   "source": [
    "$P(A \\cup B) = P(A) + P(B) = \\frac{1}{6} + \\frac{1}{6} = .333$"
   ]
  },
  {
   "cell_type": "markdown",
   "id": "3706fe66",
   "metadata": {},
   "source": [
    "Let $X$ denote the outcome of the next roll<br>\n",
    "\n",
    "$P(X > 3) = P(X=4) + P(X=5) + P(X=6)$\n",
    "\n",
    "$P(X > 3) = \\frac{1}{6} + \\frac{1}{6} + \\frac{1}{6} = .5$"
   ]
  },
  {
   "cell_type": "code",
   "execution_count": null,
   "id": "bbff9b1e",
   "metadata": {},
   "outputs": [],
   "source": []
  }
 ],
 "metadata": {
  "kernelspec": {
   "display_name": "Python 3",
   "language": "python",
   "name": "python3"
  },
  "language_info": {
   "name": "python",
   "version": "3.10.12"
  }
 },
 "nbformat": 4,
 "nbformat_minor": 5
}
